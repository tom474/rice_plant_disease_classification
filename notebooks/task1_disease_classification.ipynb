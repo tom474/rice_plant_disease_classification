{
 "cells": [
  {
   "cell_type": "markdown",
   "id": "e547d8d0",
   "metadata": {},
   "source": [
    "---\n",
    "# COSC2753 | Machine Learning\n",
    "\n",
    "## Task 1: Disease Classification using the visual features of the image\n",
    "---"
   ]
  },
  {
   "cell_type": "code",
   "execution_count": null,
   "id": "9b3021a1",
   "metadata": {},
   "outputs": [],
   "source": [
    "import os, sys\n",
    "module_path = os.path.abspath(os.path.join('..'))\n",
    "if module_path not in sys.path:\n",
    "    sys.path.append(module_path)\n",
    "\n",
    "import pandas as pd\n",
    "import numpy as np\n",
    "import matplotlib.pyplot as plt\n",
    "import seaborn as sns\n",
    "from PIL import Image\n",
    "from tqdm import tqdm\n",
    "from sklearn.model_selection import train_test_split\n",
    "from sklearn.utils import resample\n",
    "\n",
    "# Reproducible results\n",
    "np.random.seed(42)\n",
    "\n",
    "# Misc.\n",
    "plt.style.use('ggplot')\n",
    "dir_train_dataset = '../data/processed_images/'\n",
    "dir_test_dataset = 'data/processed_images/'"
   ]
  },
  {
   "cell_type": "code",
   "execution_count": 2,
   "id": "451221a1",
   "metadata": {},
   "outputs": [
    {
     "name": "stdout",
     "output_type": "stream",
     "text": [
      "Total records: 10407\n"
     ]
    },
    {
     "data": {
      "text/html": [
       "<div>\n",
       "<style scoped>\n",
       "    .dataframe tbody tr th:only-of-type {\n",
       "        vertical-align: middle;\n",
       "    }\n",
       "\n",
       "    .dataframe tbody tr th {\n",
       "        vertical-align: top;\n",
       "    }\n",
       "\n",
       "    .dataframe thead th {\n",
       "        text-align: right;\n",
       "    }\n",
       "</style>\n",
       "<table border=\"1\" class=\"dataframe\">\n",
       "  <thead>\n",
       "    <tr style=\"text-align: right;\">\n",
       "      <th></th>\n",
       "      <th>image_id</th>\n",
       "      <th>label</th>\n",
       "      <th>variety</th>\n",
       "      <th>age</th>\n",
       "      <th>image_path</th>\n",
       "    </tr>\n",
       "  </thead>\n",
       "  <tbody>\n",
       "    <tr>\n",
       "      <th>0</th>\n",
       "      <td>100330.jpg</td>\n",
       "      <td>bacterial_leaf_blight</td>\n",
       "      <td>ADT45</td>\n",
       "      <td>45</td>\n",
       "      <td>../data/train_images\\bacterial_leaf_blight\\100...</td>\n",
       "    </tr>\n",
       "    <tr>\n",
       "      <th>1</th>\n",
       "      <td>100365.jpg</td>\n",
       "      <td>bacterial_leaf_blight</td>\n",
       "      <td>ADT45</td>\n",
       "      <td>45</td>\n",
       "      <td>../data/train_images\\bacterial_leaf_blight\\100...</td>\n",
       "    </tr>\n",
       "    <tr>\n",
       "      <th>2</th>\n",
       "      <td>100382.jpg</td>\n",
       "      <td>bacterial_leaf_blight</td>\n",
       "      <td>ADT45</td>\n",
       "      <td>45</td>\n",
       "      <td>../data/train_images\\bacterial_leaf_blight\\100...</td>\n",
       "    </tr>\n",
       "    <tr>\n",
       "      <th>3</th>\n",
       "      <td>100632.jpg</td>\n",
       "      <td>bacterial_leaf_blight</td>\n",
       "      <td>ADT45</td>\n",
       "      <td>45</td>\n",
       "      <td>../data/train_images\\bacterial_leaf_blight\\100...</td>\n",
       "    </tr>\n",
       "    <tr>\n",
       "      <th>4</th>\n",
       "      <td>101918.jpg</td>\n",
       "      <td>bacterial_leaf_blight</td>\n",
       "      <td>ADT45</td>\n",
       "      <td>45</td>\n",
       "      <td>../data/train_images\\bacterial_leaf_blight\\101...</td>\n",
       "    </tr>\n",
       "  </tbody>\n",
       "</table>\n",
       "</div>"
      ],
      "text/plain": [
       "     image_id                  label variety  age  \\\n",
       "0  100330.jpg  bacterial_leaf_blight   ADT45   45   \n",
       "1  100365.jpg  bacterial_leaf_blight   ADT45   45   \n",
       "2  100382.jpg  bacterial_leaf_blight   ADT45   45   \n",
       "3  100632.jpg  bacterial_leaf_blight   ADT45   45   \n",
       "4  101918.jpg  bacterial_leaf_blight   ADT45   45   \n",
       "\n",
       "                                          image_path  \n",
       "0  ../data/train_images\\bacterial_leaf_blight\\100...  \n",
       "1  ../data/train_images\\bacterial_leaf_blight\\100...  \n",
       "2  ../data/train_images\\bacterial_leaf_blight\\100...  \n",
       "3  ../data/train_images\\bacterial_leaf_blight\\100...  \n",
       "4  ../data/train_images\\bacterial_leaf_blight\\101...  "
      ]
     },
     "execution_count": 2,
     "metadata": {},
     "output_type": "execute_result"
    }
   ],
   "source": [
    "# Load the CSV file\n",
    "df = pd.read_csv(\"../data/meta_train.csv\")\n",
    "\n",
    "# Construct full image paths\n",
    "df[\"image_path\"] = df.apply(\n",
    "    lambda row: os.path.join(\"../data/train_images\", row[\"label\"], row[\"image_id\"]),\n",
    "    axis=1,\n",
    ")\n",
    "\n",
    "# Basic info\n",
    "print(\"Total records:\", len(df))\n",
    "df.head()"
   ]
  },
  {
   "cell_type": "markdown",
   "id": "611b24f1",
   "metadata": {},
   "source": [
    "**Remove Transparency**"
   ]
  },
  {
   "cell_type": "code",
   "execution_count": null,
   "id": "a6e36a5f",
   "metadata": {},
   "outputs": [],
   "source": [
    "def remove_transparency(image: Image) -> Image:\n",
    "    if image.mode in ('RGBA', 'RGBa', 'LA', 'La', 'PA', 'P'):\n",
    "        if image.mode != 'RGBA':\n",
    "            image = image.convert('RGBA')\n",
    "        image = image.convert('RGB')\n",
    "    return image"
   ]
  },
  {
   "cell_type": "markdown",
   "id": "1da63758",
   "metadata": {},
   "source": [
    "**Resize Image**"
   ]
  },
  {
   "cell_type": "code",
   "execution_count": null,
   "id": "a0be5ab4",
   "metadata": {},
   "outputs": [],
   "source": [
    "def resize_crop(image: Image, width: int, height: int) -> Image:\n",
    "    original_aspect_ratio = image.width / image.height\n",
    "    target_aspect_ratio = width / height\n",
    "\n",
    "    if original_aspect_ratio > target_aspect_ratio:\n",
    "        # Crop horizontally\n",
    "        new_width = int(image.height * target_aspect_ratio)\n",
    "        left = (image.width - new_width) // 2\n",
    "        upper = 0\n",
    "        right = left + new_width\n",
    "        lower = image.height\n",
    "    else:\n",
    "        # Crop vertically\n",
    "        new_height = int(image.width / target_aspect_ratio)\n",
    "        left = 0\n",
    "        upper = (image.height - new_height) // 2\n",
    "        right = image.width\n",
    "        lower = upper + new_height\n",
    "\n",
    "    cropped_image = image.crop((left, upper, right, lower))\n",
    "    resized_image = cropped_image.resize((width, height), Image.Resampling.LANCZOS)\n",
    "\n",
    "    return resized_image"
   ]
  },
  {
   "cell_type": "markdown",
   "id": "1c03e9e6",
   "metadata": {},
   "source": [
    "**Normalize Image**"
   ]
  },
  {
   "cell_type": "code",
   "execution_count": null,
   "id": "50cf3379",
   "metadata": {},
   "outputs": [],
   "source": [
    "def normalize_pixels(image: Image) -> Image:\n",
    "    image_array = np.array(image)\n",
    "    normalized_image_array = image_array / 255.0  # Normalize pixel values to the range [0, 1]\n",
    "    return Image.fromarray((normalized_image_array * 255).astype(np.uint8))"
   ]
  },
  {
   "cell_type": "code",
   "execution_count": null,
   "id": "fdafc93a",
   "metadata": {},
   "outputs": [],
   "source": []
  }
 ],
 "metadata": {
  "kernelspec": {
   "display_name": "Python 3",
   "language": "python",
   "name": "python3"
  },
  "language_info": {
   "codemirror_mode": {
    "name": "ipython",
    "version": 3
   },
   "file_extension": ".py",
   "mimetype": "text/x-python",
   "name": "python",
   "nbconvert_exporter": "python",
   "pygments_lexer": "ipython3",
   "version": "3.12.3"
  }
 },
 "nbformat": 4,
 "nbformat_minor": 5
}
